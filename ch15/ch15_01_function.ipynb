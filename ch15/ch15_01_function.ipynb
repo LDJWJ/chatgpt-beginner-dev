{
  "nbformat": 4,
  "nbformat_minor": 0,
  "metadata": {
    "colab": {
      "provenance": []
    },
    "kernelspec": {
      "name": "python3",
      "display_name": "Python 3"
    },
    "language_info": {
      "name": "python"
    }
  },
  "cells": [
    {
      "cell_type": "markdown",
      "source": [
        "### [학습 내용]\n",
        " -  (1) 함수는 무엇일까요?\n",
        " -  (2) 나만의 커피머신 설명서 함수 만들기\n",
        " -  (3) 여러가지 함수의 형태\n"
      ],
      "metadata": {
        "id": "lpBJSUpIKwMN"
      }
    },
    {
      "cell_type": "markdown",
      "source": [
        "### (1) 함수는 무엇일까요?"
      ],
      "metadata": {
        "id": "hCvHXCTvK-_I"
      }
    },
    {
      "cell_type": "markdown",
      "source": [
        "- 함수는 무엇일까?(코드를 묶어 재사용하는 블록)\n",
        "- 왜 필요할까요?(코드 간결화, 유지 보수 용이, 오류 감소)\n",
        "- 함수의 기본 구성 (함수 이름, 매개변수, 반환값)"
      ],
      "metadata": {
        "id": "68EqtY5xLDME"
      }
    },
    {
      "cell_type": "code",
      "source": [
        "# 함수 정의\n",
        "def say_hello():\n",
        "  print(\"Hello, World!\")\n",
        "\n",
        "# 함수 호출\n",
        "say_hello()"
      ],
      "metadata": {
        "colab": {
          "base_uri": "https://localhost:8080/"
        },
        "id": "oHKSwT1iLEVr",
        "outputId": "a5eb0436-d181-40da-deaa-d4a8fe41f5f4"
      },
      "execution_count": 1,
      "outputs": [
        {
          "output_type": "stream",
          "name": "stdout",
          "text": [
            "Hello, World!\n"
          ]
        }
      ]
    },
    {
      "cell_type": "code",
      "source": [
        "# 함수 정의\n",
        "def say_hello():\n",
        "  print(\"Hello, World1!\")\n",
        "  print(\"Hello, World2!\")\n",
        "\n",
        "# 함수 호출\n",
        "say_hello()"
      ],
      "metadata": {
        "colab": {
          "base_uri": "https://localhost:8080/"
        },
        "id": "G81J2APfLEZe",
        "outputId": "6b41de48-df2d-4570-b3d2-0a0c2ae94e5d"
      },
      "execution_count": 2,
      "outputs": [
        {
          "output_type": "stream",
          "name": "stdout",
          "text": [
            "Hello, World1!\n",
            "Hello, World2!\n"
          ]
        }
      ]
    },
    {
      "cell_type": "code",
      "source": [
        "# 함수 정의\n",
        "def say_hello(f1, f2):\n",
        "  print(\"Hello, \", f1)\n",
        "  print(\"Hello, \", f2)\n",
        "\n",
        "# 함수 호출\n",
        "f11 = \"sweet\"\n",
        "f12 = \"ruru\"\n",
        "say_hello(f11, f12)"
      ],
      "metadata": {
        "colab": {
          "base_uri": "https://localhost:8080/"
        },
        "id": "gN2VPG8DLEdU",
        "outputId": "03da716d-1704-47e8-c5e3-140d1416bea0"
      },
      "execution_count": 3,
      "outputs": [
        {
          "output_type": "stream",
          "name": "stdout",
          "text": [
            "Hello,  sweet\n",
            "Hello,  ruru\n"
          ]
        }
      ]
    },
    {
      "cell_type": "code",
      "source": [
        "# 함수 정의\n",
        "def say_hello(f1, f2):\n",
        "  print(\"Hello, \", f1)\n",
        "  print(\"Hello, \", f2)\n",
        "  return True\n",
        "\n",
        "# 함수 호출\n",
        "f11 = \"sweet\"\n",
        "f12 = \"ruru\"\n",
        "\n",
        "res = say_hello(f11, f12)\n",
        "if res:\n",
        "    print(\"함수 호출이 성공했습니다.\")\n",
        "else:\n",
        "    print(\"함수 호출이 실패했습니다.\")"
      ],
      "metadata": {
        "colab": {
          "base_uri": "https://localhost:8080/"
        },
        "id": "PYEZdRU8LEg6",
        "outputId": "fc9c29ba-c701-43a7-f847-74cbc430bb6a"
      },
      "execution_count": 4,
      "outputs": [
        {
          "output_type": "stream",
          "name": "stdout",
          "text": [
            "Hello,  sweet\n",
            "Hello,  ruru\n",
            "함수 호출이 성공했습니다.\n"
          ]
        }
      ]
    },
    {
      "cell_type": "markdown",
      "source": [
        "### (2) 나만의 함수 만들기 - 커피 레시피"
      ],
      "metadata": {
        "id": "j-_JkzqRLEkA"
      }
    },
    {
      "cell_type": "code",
      "source": [
        "# 나만의 커피 레시피\n",
        "def my_make_coffee(coffee_type):\n",
        "  sel_type = \"\"\n",
        "  if coffee_type==1:\n",
        "     print(\"1. 커피를 갈아서 포터필터에 넣습니다.\")\n",
        "     print(\"2. 기계로 포터필터를 압축합니다.\")\n",
        "     print(\"3. 뜨거운 물을 압축된 커피를 통해 추출합니다.\")\n",
        "     sel_type = \"에스프레소\"\n",
        "  elif coffee_type == 2:\n",
        "     print(\"1. 에스프레소를 한 잔 만듭니다.\")\n",
        "     print(\"2. 뜨거운 물을 추가하여 아메리카노를 완성합니다.\")\n",
        "     sel_type = \"아메리카노\"\n",
        "  elif coffee_type == 3:\n",
        "     print(\"1. 에스프레소를 한 잔 만듭니다.\")\n",
        "     print(\"2. 우유를 스팀하여 거품을 만듭니다.\")\n",
        "     print(\"3. 만들어진 거품을 에스프레소 위에 올립니다.\")\n",
        "     sel_type = \"카푸치노\"\n",
        "  else:\n",
        "     print(\"지원하지 않는 커피입니다. 선택 가능한 커피: 에스프레소, 아메리카노, 카푸치노\")\n",
        "     sel_type = \"기타\"\n",
        "\n",
        "  return sel_type\n",
        "\n",
        "\n",
        "print(\"1. 에스프레소, 2. 아메리카노, 3. 카푸치노\")\n",
        "sel = int( input(\"어떤 커피를 만드실 건가요?(1-3)\") )\n",
        "res = my_make_coffee(sel)\n",
        "print(res,\"의 커피를 잘 부탁드립니다.\")"
      ],
      "metadata": {
        "colab": {
          "base_uri": "https://localhost:8080/"
        },
        "id": "33EI_MvuLEnH",
        "outputId": "eb37a39c-f72f-44f5-8133-5c2f77cd9bbc"
      },
      "execution_count": 5,
      "outputs": [
        {
          "output_type": "stream",
          "name": "stdout",
          "text": [
            "1. 에스프레소, 2. 아메리카노, 3. 카푸치노\n",
            "어떤 커피를 만드실 건가요?(1-3)2\n",
            "1. 에스프레소를 한 잔 만듭니다.\n",
            "2. 뜨거운 물을 추가하여 아메리카노를 완성합니다.\n",
            "아메리카노 의 커피를 잘 부탁드립니다.\n"
          ]
        }
      ]
    },
    {
      "cell_type": "markdown",
      "source": [
        "# 실습\n",
        "```\n",
        "위의 내용을 변경해 보자.\n",
        "01. 함수명 변경 - make_coffee -> toto_coffee\n",
        "02. 여러분이 자주 먹는 음료를 레시피 넣어, 이를 변경해 주세요.\n",
        "```"
      ],
      "metadata": {
        "id": "nUAky0qTLEp_"
      }
    },
    {
      "cell_type": "markdown",
      "source": [
        "### (3) 여러가지 함수의 형태"
      ],
      "metadata": {
        "id": "Q5gRbfaeLJq_"
      }
    },
    {
      "cell_type": "code",
      "source": [
        "# 매개변수와 반환값이 있는 함수\n",
        "def add(a, b):\n",
        "    return a + b\n",
        "\n",
        "result = add(5, 3)\n",
        "print(result)  # 출력: 8"
      ],
      "metadata": {
        "id": "9swg3CwWLJtu"
      },
      "execution_count": null,
      "outputs": []
    },
    {
      "cell_type": "code",
      "source": [
        "# 2. 기본값을 가진 매개변수\n",
        "def greet(name, message=\"Hello\"):\n",
        "    print(f\"{message}, {name}!\")\n",
        "\n",
        "greet(\"Alice\")  # 출력: Hello, Alice!\n",
        "greet(\"Bob\", \"Good morning\")  # 출력: Good morning, Bob!"
      ],
      "metadata": {
        "colab": {
          "base_uri": "https://localhost:8080/"
        },
        "id": "guYOnCX6LJwy",
        "outputId": "cdcc599f-320c-4dca-c6c2-f409f179a5b3"
      },
      "execution_count": 6,
      "outputs": [
        {
          "output_type": "stream",
          "name": "stdout",
          "text": [
            "Hello, Alice!\n",
            "Good morning, Bob!\n"
          ]
        }
      ]
    },
    {
      "cell_type": "code",
      "source": [
        "# 3. 키워드 매개변수\n",
        "def describe_pet(animal_type, pet_name):\n",
        "    print(f\"I have a {animal_type} and its name is {pet_name}.\")\n",
        "\n",
        "describe_pet(animal_type=\"hamster\", pet_name=\"Harry\")\n",
        "# 출력: I have a hamster and its name is Harry."
      ],
      "metadata": {
        "colab": {
          "base_uri": "https://localhost:8080/"
        },
        "id": "ljbMIv4xLQjF",
        "outputId": "d84369b0-4d59-47f4-9cf6-33954eb4f466"
      },
      "execution_count": 7,
      "outputs": [
        {
          "output_type": "stream",
          "name": "stdout",
          "text": [
            "I have a hamster and its name is Harry.\n"
          ]
        }
      ]
    },
    {
      "cell_type": "code",
      "source": [
        "# 가변 매개변수\n",
        "def make_pizza(*toppings):\n",
        "    for topping in toppings:\n",
        "        print(f\"- {topping}\")\n",
        "\n",
        "make_pizza('pepperoni')\n",
        "make_pizza('mushrooms', 'green peppers', 'extra cheese')"
      ],
      "metadata": {
        "colab": {
          "base_uri": "https://localhost:8080/"
        },
        "id": "yna_Tx0LLQl9",
        "outputId": "1c233f55-3bbd-4a6c-9316-24c45be76303"
      },
      "execution_count": 9,
      "outputs": [
        {
          "output_type": "stream",
          "name": "stdout",
          "text": [
            "- pepperoni\n",
            "- mushrooms\n",
            "- green peppers\n",
            "- extra cheese\n"
          ]
        }
      ]
    },
    {
      "cell_type": "markdown",
      "source": [
        "# Summary\n",
        " - 기본함수형태\n",
        "   - 매개변수, return\n",
        "   - 매개변수 기본값에 지정하기\n",
        " - 여러가지 함수 형태"
      ],
      "metadata": {
        "id": "yKUT_bkVLQq0"
      }
    }
  ]
}