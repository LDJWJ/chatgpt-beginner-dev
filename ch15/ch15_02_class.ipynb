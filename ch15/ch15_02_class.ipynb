{
  "nbformat": 4,
  "nbformat_minor": 0,
  "metadata": {
    "colab": {
      "provenance": []
    },
    "kernelspec": {
      "name": "python3",
      "display_name": "Python 3"
    },
    "language_info": {
      "name": "python"
    }
  },
  "cells": [
    {
      "cell_type": "markdown",
      "source": [
        "## 챗봇 개발을 위한 파이썬 기본 - 클래스\n",
        " - 클래스 시작하기"
      ],
      "metadata": {
        "id": "gkEUeeLsk3Ci"
      }
    },
    {
      "cell_type": "markdown",
      "source": [
        "### [학습 내용]\n",
        "  - (1) 클래스는 무엇일까요?\n",
        "  - (2) 나만의 클래스 만들기\n",
        "  - (3) 게임 캐릭터 클래스 만들기\n"
      ],
      "metadata": {
        "id": "lpBJSUpIKwMN"
      }
    },
    {
      "cell_type": "markdown",
      "source": [
        "### (1) 클래스는 무엇일까요?"
      ],
      "metadata": {
        "id": "hCvHXCTvK-_I"
      }
    },
    {
      "cell_type": "markdown",
      "source": [
        "- 여러가지 객체를 만들기 위한 **설계도**입니다.\n",
        "- 객체는 그 설계도를 바탕으로 만들어진 것. 이를 인스턴스라고 합니다.\n",
        "- 예를 들어 자동차 클래스가 있다면, 자동차 클래스는 자동차의 자동차의 속성(모델, 색상, 속도 등)과 행동(주행, 정지, 방향 전환 등)을 정의합니다.\n",
        "- 클래스의 구성 요소\n",
        "   - 속성(Attributes): 객체의 특성을 나타내는 변수\n",
        "   - 메서드(Methods): 객체가 수행할 수 있는 행동을 정의하는 함수\n",
        "   - 생성자(Constructor): 객체를 만들 때 초기 속성 값을 설정하는 특별한 메서드"
      ],
      "metadata": {
        "id": "68EqtY5xLDME"
      }
    },
    {
      "cell_type": "code",
      "source": [
        "# 가장 간단한 클래스\n",
        "class ClassName:\n",
        "  pass"
      ],
      "metadata": {
        "id": "oHKSwT1iLEVr"
      },
      "execution_count": 12,
      "outputs": []
    },
    {
      "cell_type": "markdown",
      "source": [
        "### self : 클래스 내부에서 사용되는 변수 인스턴스 자기 자신을 가르킨다.\n",
        " - 규칙 : 파이썬에서 클래스의 메소드를 정의할 때, 첫 번째 매개변수로 항상 'self'를 명시해야 한다.\n",
        " - 인스턴스 변수 접근 : 'self'를 사용하여, 정의된 변수 속성에 접근 가능. 예를 들어, self.color는 현재 객체의 'color'속성에 접근하겠다.\n",
        " - 메소드내의 다른 메소드 호출 : 예를 들어 'self.change_color(\"녹색\")은 같은 객체 내의 'change_color'메소드 호출 가능.\n",
        " - 객체 구분 : 같은 클래스로부터 여러 객체 생성 시, 'self'는 각 객체를 서로 구분하는 역할을 한다."
      ],
      "metadata": {
        "id": "NhR6h1ykltJZ"
      }
    },
    {
      "cell_type": "code",
      "source": [
        "# 메서드를 포함한 클래스\n",
        "class HelloWorld:\n",
        "  def say_hello(self):\n",
        "    print(\"Hello, World\")\n",
        "\n",
        "hello = HelloWorld()\n",
        "\n",
        "# 인스턴스를 통해 메서드 호출\n",
        "hello.say_hello()\n",
        "\n"
      ],
      "metadata": {
        "id": "G81J2APfLEZe",
        "colab": {
          "base_uri": "https://localhost:8080/"
        },
        "outputId": "37561524-558a-4a19-d483-579879b613bd"
      },
      "execution_count": 13,
      "outputs": [
        {
          "output_type": "stream",
          "name": "stdout",
          "text": [
            "Hello, World\n"
          ]
        }
      ]
    },
    {
      "cell_type": "markdown",
      "source": [
        "### (2) 나만의 클래스 만들기"
      ],
      "metadata": {
        "id": "j-_JkzqRLEkA"
      }
    },
    {
      "cell_type": "code",
      "source": [
        "# 나만의 클래스 만들기\n",
        "class MyVehicle:\n",
        "  # 생성자 메소드\n",
        "  def __init__(self, type, color):\n",
        "    self.type = type # 타입 (예: 자동차, 자전거, 걷기\n",
        "    self.color = color # 색상\n",
        "\n",
        "  # 차의 색상을 출력하는 메소드\n",
        "  def show_color(self):\n",
        "    print(f\"이 {self.type}은(는) {self.color}의 색상을 가지고 있습니다.\")\n",
        "\n",
        "# 객체 생성\n",
        "car = MyVehicle(\"car\", \"red\")\n",
        "bike = MyVehicle(\"bike\", \"blue\")\n",
        "\n",
        "# 객체의 색상 출력\n",
        "car.show_color()\n",
        "bike.show_color()"
      ],
      "metadata": {
        "id": "33EI_MvuLEnH",
        "colab": {
          "base_uri": "https://localhost:8080/"
        },
        "outputId": "b4448e4d-4dc5-4380-f40c-5842402efcd1"
      },
      "execution_count": 14,
      "outputs": [
        {
          "output_type": "stream",
          "name": "stdout",
          "text": [
            "이 car은(는) red의 색상을 가지고 있습니다.\n",
            "이 bike은(는) blue의 색상을 가지고 있습니다.\n"
          ]
        }
      ]
    },
    {
      "cell_type": "markdown",
      "source": [
        "# 실습\n",
        "```\n",
        "01. 생성자 메소드에 속도(speed)의 속성을 추가하고,\n",
        "02. 차의 속도를 출력하는 메소드(show_speed)를 추가해 봅시다.\n",
        "03. 색상을 변경하는 메소드를 추가해 봅시다.\n",
        "    (예) change_color(self, new_color)\n",
        "```"
      ],
      "metadata": {
        "id": "nUAky0qTLEp_"
      }
    },
    {
      "cell_type": "markdown",
      "source": [
        "### 실습 코드"
      ],
      "metadata": {
        "id": "emBTdncckhc_"
      }
    },
    {
      "cell_type": "code",
      "source": [
        "class MyVehicle:\n",
        "    # 생성자 메소드\n",
        "    def __init__(self, type, color, speed):\n",
        "        self.type = type  # 타입 (예: 자동차, 자전거, 걷기)\n",
        "        self.color = color  # 색상\n",
        "        self.speed = speed  # 속도\n",
        "\n",
        "    # 차의 색상을 출력하는 메소드\n",
        "    def show_color(self):\n",
        "        print(f\"이 {self.type}은(는) {self.color}의 색상을 가지고 있습니다.\")\n",
        "\n",
        "    # 속도를 출력하는 메소드\n",
        "    def show_speed(self):\n",
        "        print(f\"이 {self.type}은(는) {self.speed}의 속도로 움직입니다.\")\n",
        "\n",
        "    # 색상을 변경하는 메소드\n",
        "    def change_color(self, new_color):\n",
        "        self.color = new_color\n",
        "        print(f\"{self.type}의 색상이 {self.color}(으)로 변경되었습니다.\")\n",
        "\n",
        "# 객체 생성 및 사용 예시\n",
        "car = MyVehicle(\"car\", \"red\", \"fast\")\n",
        "bike = MyVehicle(\"bike\", \"blue\", \"moderate\")\n",
        "\n",
        "# 각 객체의 색상 출력\n",
        "car.show_color()\n",
        "bike.show_color()\n",
        "\n",
        "# 각 객체의 속도 출력\n",
        "car.show_speed()\n",
        "bike.show_speed()\n",
        "\n",
        "# 자동차의 색상을 변경\n",
        "car.change_color(\"green\")"
      ],
      "metadata": {
        "colab": {
          "base_uri": "https://localhost:8080/"
        },
        "id": "YT7kSsetkjML",
        "outputId": "4415c140-1782-4fee-8bd5-a2bb034607ff"
      },
      "execution_count": null,
      "outputs": [
        {
          "output_type": "stream",
          "name": "stdout",
          "text": [
            "이 car은(는) red의 색상을 가지고 있습니다.\n",
            "이 bike은(는) blue의 색상을 가지고 있습니다.\n",
            "이 car은(는) fast의 속도로 움직입니다.\n",
            "이 bike은(는) moderate의 속도로 움직입니다.\n",
            "car의 색상이 green(으)로 변경되었습니다.\n"
          ]
        }
      ]
    },
    {
      "cell_type": "markdown",
      "source": [
        "### (3) 게임 캐릭터 클래스 만들기"
      ],
      "metadata": {
        "id": "Q5gRbfaeLJq_"
      }
    },
    {
      "cell_type": "code",
      "source": [
        "# 게임 캐릭터 클래스 만들기\n",
        "class GameCharacter:\n",
        "  def __init__(self, name, health, attack_power):\n",
        "    self.name = name\n",
        "    self.health = health\n",
        "    self.attack_power = attack_power\n",
        "\n",
        "  def attack(self, target):\n",
        "    print(f\"{self.name}이(가) {target.name}을(를) 공격합니다!\")\n",
        "    target.health -= self.attack_power   # target.health = target.health - self.attack_power\n",
        "    if target.health <= 0:\n",
        "      print(f\"{target.name}이(가) 쓰러졌습니다!\")\n",
        "    else:\n",
        "      print(f\"{target.name}의 남은 체력: {target.health}\")\n",
        "\n",
        "  def show_status(self):\n",
        "    print(f\"이름: {self.name}, 체력: {self.health}, 공격력: {self.attack_power}\")"
      ],
      "metadata": {
        "id": "9swg3CwWLJtu"
      },
      "execution_count": 18,
      "outputs": []
    },
    {
      "cell_type": "code",
      "source": [
        "# 인스턴스 생성, 영웅과 몬스터의 상태 출력,\n",
        "# 게임의 한턴 - 영웅 공격, 몬스터 공격\n",
        "\n",
        "# 인스턴스 생성\n",
        "hero  = GameCharacter(\"영웅\", 100, 30)\n",
        "monster = GameCharacter(\"몬스터1\", 80, 20)\n",
        "\n",
        "# 영웅과 몬스터1의 상태 출력\n",
        "hero.show_status()\n",
        "monster.show_status()\n",
        "\n",
        "# 공격\n",
        "hero.attack(monster)\n",
        "monster.attack(hero)"
      ],
      "metadata": {
        "id": "guYOnCX6LJwy",
        "colab": {
          "base_uri": "https://localhost:8080/"
        },
        "outputId": "66ec1b88-cb66-4e48-ab70-12af3e42838f"
      },
      "execution_count": 20,
      "outputs": [
        {
          "output_type": "stream",
          "name": "stdout",
          "text": [
            "이름: 영웅, 체력: 100, 공격력: 30\n",
            "이름: 몬스터1, 체력: 80, 공격력: 20\n",
            "영웅이(가) 몬스터1을(를) 공격합니다!\n",
            "몬스터1의 남은 체력: 50\n",
            "몬스터1이(가) 영웅을(를) 공격합니다!\n",
            "영웅의 남은 체력: 80\n"
          ]
        }
      ]
    },
    {
      "cell_type": "markdown",
      "source": [
        "# Summary\n",
        " - 클래스란 무엇인가?\n",
        " - 나만의 클래스 만들기\n",
        " - 게임 캐릭터 클래스."
      ],
      "metadata": {
        "id": "ljbMIv4xLQjF"
      }
    },
    {
      "cell_type": "code",
      "source": [
        "# --"
      ],
      "metadata": {
        "id": "yna_Tx0LLQl9"
      },
      "execution_count": null,
      "outputs": []
    }
  ]
}